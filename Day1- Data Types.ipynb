{
 "cells": [
  {
   "cell_type": "code",
   "execution_count": 1,
   "id": "f3bd9e5c",
   "metadata": {},
   "outputs": [
    {
     "name": "stdout",
     "output_type": "stream",
     "text": [
      "4\n",
      "9\n",
      "nlk;\n",
      "8\n",
      "13.0\n",
      "HackerRank nlk;\n"
     ]
    }
   ],
   "source": [
    "i = 4\n",
    "d = 4.0\n",
    "s = 'HackerRank '\n",
    "# Declare second integer, double, and String variables.\n",
    "# Declare second integer, double, and String variables.\n",
    "a = 0\n",
    "b = 0.0\n",
    "c = \"\"\n",
    "# Read and save an integer, double, and String to your variables.\n",
    "a = int(input())\n",
    "b = float(input())\n",
    "c = str(input())\n",
    "# Print the sum of both integer variables on a new line.\n",
    "print(i+a)\n",
    "# Print the sum of the double variables on a new line.\n",
    "print(d+b)\n",
    "# Concatenate and print the String variables on a new line\n",
    "# The 's' variable above should be printed first.\n",
    "print(s+c)"
   ]
  },
  {
   "cell_type": "code",
   "execution_count": null,
   "id": "1e670907",
   "metadata": {},
   "outputs": [],
   "source": []
  }
 ],
 "metadata": {
  "kernelspec": {
   "display_name": "Python 3 (ipykernel)",
   "language": "python",
   "name": "python3"
  },
  "language_info": {
   "codemirror_mode": {
    "name": "ipython",
    "version": 3
   },
   "file_extension": ".py",
   "mimetype": "text/x-python",
   "name": "python",
   "nbconvert_exporter": "python",
   "pygments_lexer": "ipython3",
   "version": "3.9.7"
  }
 },
 "nbformat": 4,
 "nbformat_minor": 5
}
