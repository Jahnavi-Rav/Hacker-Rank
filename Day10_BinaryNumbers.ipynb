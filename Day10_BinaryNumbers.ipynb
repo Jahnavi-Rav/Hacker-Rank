{
  "nbformat": 4,
  "nbformat_minor": 0,
  "metadata": {
    "colab": {
      "name": "Day10- BinaryNumbers.ipynb",
      "provenance": []
    },
    "kernelspec": {
      "name": "python3",
      "display_name": "Python 3"
    },
    "language_info": {
      "name": "python"
    }
  },
  "cells": [
    {
      "cell_type": "code",
      "source": [
        "import math\n",
        "import os\n",
        "import random\n",
        "import re\n",
        "import sys\n",
        "\n",
        "if __name__ == '__main__':\n",
        "    n = int(input())\n",
        "    numbers = str(bin(n)[2:]).split('0')\n",
        "    lengths = max([len(num) for num in numbers])\n",
        "    print(lengths)"
      ],
      "metadata": {
        "colab": {
          "base_uri": "https://localhost:8080/"
        },
        "id": "GYH430MEKibm",
        "outputId": "cde0b141-1737-4222-e762-dfad21291fda"
      },
      "execution_count": 69,
      "outputs": [
        {
          "output_type": "stream",
          "name": "stdout",
          "text": [
            "75\n",
            "2\n"
          ]
        }
      ]
    },
    {
      "cell_type": "code",
      "source": [],
      "metadata": {
        "id": "NMI1PrFMSvnh"
      },
      "execution_count": null,
      "outputs": []
    }
  ]
}