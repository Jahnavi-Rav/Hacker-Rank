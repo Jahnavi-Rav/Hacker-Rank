{
 "cells": [
  {
   "cell_type": "code",
   "execution_count": 5,
   "id": "14168b3b",
   "metadata": {},
   "outputs": [
    {
     "name": "stdout",
     "output_type": "stream",
     "text": [
      "38\n",
      "38 x 1 = 38\n",
      "38 x 2 = 76\n",
      "38 x 3 = 114\n",
      "38 x 4 = 152\n",
      "38 x 5 = 190\n",
      "38 x 6 = 228\n",
      "38 x 7 = 266\n",
      "38 x 8 = 304\n",
      "38 x 9 = 342\n",
      "38 x 10 = 380\n"
     ]
    }
   ],
   "source": [
    "import math\n",
    "import os\n",
    "import random\n",
    "import re\n",
    "import sys\n",
    "\n",
    "\n",
    "\n",
    "if __name__ == '__main__':\n",
    "    n = int(input().strip())\n",
    "for i in range(1, 11):\n",
    "    print(\"{} x {} = {}\".format(n, i, i*n))"
   ]
  },
  {
   "cell_type": "code",
   "execution_count": null,
   "id": "eb51fdad",
   "metadata": {},
   "outputs": [],
   "source": []
  }
 ],
 "metadata": {
  "kernelspec": {
   "display_name": "Python 3 (ipykernel)",
   "language": "python",
   "name": "python3"
  },
  "language_info": {
   "codemirror_mode": {
    "name": "ipython",
    "version": 3
   },
   "file_extension": ".py",
   "mimetype": "text/x-python",
   "name": "python",
   "nbconvert_exporter": "python",
   "pygments_lexer": "ipython3",
   "version": "3.9.7"
  }
 },
 "nbformat": 4,
 "nbformat_minor": 5
}
