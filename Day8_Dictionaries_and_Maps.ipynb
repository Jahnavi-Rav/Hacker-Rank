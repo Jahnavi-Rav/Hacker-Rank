{
  "nbformat": 4,
  "nbformat_minor": 0,
  "metadata": {
    "colab": {
      "name": "Day8- Dictionaries and Maps.ipynb",
      "provenance": []
    },
    "kernelspec": {
      "name": "python3",
      "display_name": "Python 3"
    },
    "language_info": {
      "name": "python"
    }
  },
  "cells": [
    {
      "cell_type": "code",
      "execution_count": null,
      "metadata": {
        "id": "FjuTDl2749S_"
      },
      "outputs": [],
      "source": [
        "phoneBook = {('sam', 99912222), ('tom', 11122222), ('harry', 12299933)}\n",
        "n = int(input())\n",
        "d = {}\n",
        "\n",
        "for i in range(n):\n",
        "    x = input().split()\n",
        "    d[x[0]] = x[1]\n",
        "\n",
        "while True:\n",
        "    try:\n",
        "        NAME = input()\n",
        "        if NAME in d:\n",
        "            print(NAME, \"=\", d[NAME], sep=\"\")\n",
        "        else: print(\"Not found\")\n",
        "    except:\n",
        "        break"
      ]
    },
    {
      "cell_type": "code",
      "source": [],
      "metadata": {
        "id": "K97O_CdXGdTR"
      },
      "execution_count": 45,
      "outputs": []
    }
  ]
}